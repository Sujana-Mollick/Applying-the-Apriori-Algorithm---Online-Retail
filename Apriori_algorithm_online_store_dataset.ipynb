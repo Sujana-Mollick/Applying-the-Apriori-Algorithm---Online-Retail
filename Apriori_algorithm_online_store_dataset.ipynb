{
  "metadata": {
    "kernelspec": {
      "language": "python",
      "display_name": "Python 3",
      "name": "python3"
    },
    "language_info": {
      "name": "python",
      "version": "3.7.12",
      "mimetype": "text/x-python",
      "codemirror_mode": {
        "name": "ipython",
        "version": 3
      },
      "pygments_lexer": "ipython3",
      "nbconvert_exporter": "python",
      "file_extension": ".py"
    },
    "colab": {
      "provenance": [],
      "include_colab_link": true
    }
  },
  "nbformat_minor": 0,
  "nbformat": 4,
  "cells": [
    {
      "cell_type": "markdown",
      "metadata": {
        "id": "view-in-github",
        "colab_type": "text"
      },
      "source": [
        "<a href=\"https://colab.research.google.com/github/Sujana-Mollick/Applying-the-Apriori-Algorithm---Online-Retail/blob/main/Apriori_algorithm_online_store_dataset.ipynb\" target=\"_parent\"><img src=\"https://colab.research.google.com/assets/colab-badge.svg\" alt=\"Open In Colab\"/></a>"
      ]
    },
    {
      "cell_type": "markdown",
      "source": [
        "# Applying the Apriori Algorithm - Online Retail\n",
        "\n",
        "Apriori is a popular algorithm for extracting frequent item sets from a transactional database and for identifying association rules between items in the item sets. The algorithm is designed to operate on databases containing transactions, such as purchases by customers of a store. The Apriori algorithm is based on the \"Apriori property\", which states that if an itemset is frequent, then all of its subsets must also be frequent. The algorithm uses this property to reduce the number of candidate item sets that need to be tested. It begins by identifying frequent individual items in the database, and then extends these to larger and larger item sets as long as they remain frequent. The algorithm terminates when no further extensions are possible. The resulting set of frequent item sets and association rules can be used for a variety of purposes, such as market basket analysis and rule-based decision making."
      ],
      "metadata": {
        "id": "CGpnMbraZWt5"
      }
    },
    {
      "cell_type": "markdown",
      "source": [
        "# Import libraries and load the data"
      ],
      "metadata": {
        "id": "ZItTUNLbZWt9"
      }
    },
    {
      "cell_type": "code",
      "source": [
        "import numpy as np\n",
        "import pandas as pd\n",
        "from mlxtend.frequent_patterns import apriori, association_rules"
      ],
      "metadata": {
        "_uuid": "8f2839f25d086af736a60e9eeb907d3b93b6e0e5",
        "_cell_guid": "b1076dfc-b9ad-4769-8c92-a6c4dae69d19",
        "execution": {
          "iopub.status.busy": "2023-11-03T02:32:44.228260Z",
          "iopub.execute_input": "2023-11-03T02:32:44.228959Z",
          "iopub.status.idle": "2023-11-03T02:32:44.264664Z",
          "shell.execute_reply.started": "2023-11-03T02:32:44.228877Z",
          "shell.execute_reply": "2023-11-03T02:32:44.263364Z"
        },
        "trusted": true,
        "id": "JhQ_rCOKZWt-"
      },
      "execution_count": null,
      "outputs": []
    },
    {
      "cell_type": "code",
      "source": [
        "# Loading the Data\n",
        "data = pd.read_csv('/kaggle/input/online-retail-dataset/online_retail.csv')\n",
        "data.head()"
      ],
      "metadata": {
        "execution": {
          "iopub.status.busy": "2023-11-03T02:40:25.158094Z",
          "iopub.execute_input": "2023-11-03T02:40:25.158482Z",
          "iopub.status.idle": "2023-11-03T02:40:26.286860Z",
          "shell.execute_reply.started": "2023-11-03T02:40:25.158450Z",
          "shell.execute_reply": "2023-11-03T02:40:26.285909Z"
        },
        "trusted": true,
        "id": "tSSjbcNTZWt_",
        "outputId": "8a76f7d6-380e-459c-f001-ff191b686b74"
      },
      "execution_count": null,
      "outputs": [
        {
          "execution_count": 3,
          "output_type": "execute_result",
          "data": {
            "text/plain": "  InvoiceNo StockCode                          Description  Quantity  \\\n0    536365    85123A   WHITE HANGING HEART T-LIGHT HOLDER         6   \n1    536365     71053                  WHITE METAL LANTERN         6   \n2    536365    84406B       CREAM CUPID HEARTS COAT HANGER         8   \n3    536365    84029G  KNITTED UNION FLAG HOT WATER BOTTLE         6   \n4    536365    84029E       RED WOOLLY HOTTIE WHITE HEART.         6   \n\n           InvoiceDate  UnitPrice  CustomerID         Country  \n0  2010-12-01 08:26:00       2.55     17850.0  United Kingdom  \n1  2010-12-01 08:26:00       3.39     17850.0  United Kingdom  \n2  2010-12-01 08:26:00       2.75     17850.0  United Kingdom  \n3  2010-12-01 08:26:00       3.39     17850.0  United Kingdom  \n4  2010-12-01 08:26:00       3.39     17850.0  United Kingdom  ",
            "text/html": "<div>\n<style scoped>\n    .dataframe tbody tr th:only-of-type {\n        vertical-align: middle;\n    }\n\n    .dataframe tbody tr th {\n        vertical-align: top;\n    }\n\n    .dataframe thead th {\n        text-align: right;\n    }\n</style>\n<table border=\"1\" class=\"dataframe\">\n  <thead>\n    <tr style=\"text-align: right;\">\n      <th></th>\n      <th>InvoiceNo</th>\n      <th>StockCode</th>\n      <th>Description</th>\n      <th>Quantity</th>\n      <th>InvoiceDate</th>\n      <th>UnitPrice</th>\n      <th>CustomerID</th>\n      <th>Country</th>\n    </tr>\n  </thead>\n  <tbody>\n    <tr>\n      <th>0</th>\n      <td>536365</td>\n      <td>85123A</td>\n      <td>WHITE HANGING HEART T-LIGHT HOLDER</td>\n      <td>6</td>\n      <td>2010-12-01 08:26:00</td>\n      <td>2.55</td>\n      <td>17850.0</td>\n      <td>United Kingdom</td>\n    </tr>\n    <tr>\n      <th>1</th>\n      <td>536365</td>\n      <td>71053</td>\n      <td>WHITE METAL LANTERN</td>\n      <td>6</td>\n      <td>2010-12-01 08:26:00</td>\n      <td>3.39</td>\n      <td>17850.0</td>\n      <td>United Kingdom</td>\n    </tr>\n    <tr>\n      <th>2</th>\n      <td>536365</td>\n      <td>84406B</td>\n      <td>CREAM CUPID HEARTS COAT HANGER</td>\n      <td>8</td>\n      <td>2010-12-01 08:26:00</td>\n      <td>2.75</td>\n      <td>17850.0</td>\n      <td>United Kingdom</td>\n    </tr>\n    <tr>\n      <th>3</th>\n      <td>536365</td>\n      <td>84029G</td>\n      <td>KNITTED UNION FLAG HOT WATER BOTTLE</td>\n      <td>6</td>\n      <td>2010-12-01 08:26:00</td>\n      <td>3.39</td>\n      <td>17850.0</td>\n      <td>United Kingdom</td>\n    </tr>\n    <tr>\n      <th>4</th>\n      <td>536365</td>\n      <td>84029E</td>\n      <td>RED WOOLLY HOTTIE WHITE HEART.</td>\n      <td>6</td>\n      <td>2010-12-01 08:26:00</td>\n      <td>3.39</td>\n      <td>17850.0</td>\n      <td>United Kingdom</td>\n    </tr>\n  </tbody>\n</table>\n</div>"
          },
          "metadata": {}
        }
      ]
    },
    {
      "cell_type": "code",
      "source": [
        "data.info()"
      ],
      "metadata": {
        "execution": {
          "iopub.status.busy": "2023-11-03T02:40:29.615625Z",
          "iopub.execute_input": "2023-11-03T02:40:29.615987Z",
          "iopub.status.idle": "2023-11-03T02:40:29.737009Z",
          "shell.execute_reply.started": "2023-11-03T02:40:29.615959Z",
          "shell.execute_reply": "2023-11-03T02:40:29.735750Z"
        },
        "trusted": true,
        "id": "WNbuLOfpZWuA",
        "outputId": "417ec4a5-85be-4980-854f-be999c912a4e"
      },
      "execution_count": null,
      "outputs": [
        {
          "name": "stdout",
          "text": "<class 'pandas.core.frame.DataFrame'>\nRangeIndex: 541909 entries, 0 to 541908\nData columns (total 8 columns):\n #   Column       Non-Null Count   Dtype  \n---  ------       --------------   -----  \n 0   InvoiceNo    541909 non-null  object \n 1   StockCode    541909 non-null  object \n 2   Description  540455 non-null  object \n 3   Quantity     541909 non-null  int64  \n 4   InvoiceDate  541909 non-null  object \n 5   UnitPrice    541909 non-null  float64\n 6   CustomerID   406829 non-null  float64\n 7   Country      541909 non-null  object \ndtypes: float64(2), int64(1), object(5)\nmemory usage: 33.1+ MB\n",
          "output_type": "stream"
        }
      ]
    },
    {
      "cell_type": "code",
      "source": [
        "data"
      ],
      "metadata": {
        "execution": {
          "iopub.status.busy": "2023-10-27T09:02:37.976178Z",
          "iopub.execute_input": "2023-10-27T09:02:37.976606Z",
          "iopub.status.idle": "2023-10-27T09:02:37.999198Z",
          "shell.execute_reply.started": "2023-10-27T09:02:37.976569Z",
          "shell.execute_reply": "2023-10-27T09:02:37.997941Z"
        },
        "trusted": true,
        "id": "LR1VvlzfZWuA",
        "outputId": "de2cf8db-caa8-4285-afff-c1cc6a1ce630"
      },
      "execution_count": null,
      "outputs": [
        {
          "execution_count": 11,
          "output_type": "execute_result",
          "data": {
            "text/plain": "       InvoiceNo StockCode                          Description  Quantity  \\\n0         536365    85123A   WHITE HANGING HEART T-LIGHT HOLDER         6   \n1         536365     71053                  WHITE METAL LANTERN         6   \n2         536365    84406B       CREAM CUPID HEARTS COAT HANGER         8   \n3         536365    84029G  KNITTED UNION FLAG HOT WATER BOTTLE         6   \n4         536365    84029E       RED WOOLLY HOTTIE WHITE HEART.         6   \n...          ...       ...                                  ...       ...   \n541904    581587     22613          PACK OF 20 SPACEBOY NAPKINS        12   \n541905    581587     22899          CHILDREN'S APRON DOLLY GIRL         6   \n541906    581587     23254         CHILDRENS CUTLERY DOLLY GIRL         4   \n541907    581587     23255      CHILDRENS CUTLERY CIRCUS PARADE         4   \n541908    581587     22138         BAKING SET 9 PIECE RETROSPOT         3   \n\n                InvoiceDate  UnitPrice  CustomerID         Country  \n0       2010-12-01 08:26:00       2.55     17850.0  United Kingdom  \n1       2010-12-01 08:26:00       3.39     17850.0  United Kingdom  \n2       2010-12-01 08:26:00       2.75     17850.0  United Kingdom  \n3       2010-12-01 08:26:00       3.39     17850.0  United Kingdom  \n4       2010-12-01 08:26:00       3.39     17850.0  United Kingdom  \n...                     ...        ...         ...             ...  \n541904  2011-12-09 12:50:00       0.85     12680.0          France  \n541905  2011-12-09 12:50:00       2.10     12680.0          France  \n541906  2011-12-09 12:50:00       4.15     12680.0          France  \n541907  2011-12-09 12:50:00       4.15     12680.0          France  \n541908  2011-12-09 12:50:00       4.95     12680.0          France  \n\n[532621 rows x 8 columns]",
            "text/html": "<div>\n<style scoped>\n    .dataframe tbody tr th:only-of-type {\n        vertical-align: middle;\n    }\n\n    .dataframe tbody tr th {\n        vertical-align: top;\n    }\n\n    .dataframe thead th {\n        text-align: right;\n    }\n</style>\n<table border=\"1\" class=\"dataframe\">\n  <thead>\n    <tr style=\"text-align: right;\">\n      <th></th>\n      <th>InvoiceNo</th>\n      <th>StockCode</th>\n      <th>Description</th>\n      <th>Quantity</th>\n      <th>InvoiceDate</th>\n      <th>UnitPrice</th>\n      <th>CustomerID</th>\n      <th>Country</th>\n    </tr>\n  </thead>\n  <tbody>\n    <tr>\n      <th>0</th>\n      <td>536365</td>\n      <td>85123A</td>\n      <td>WHITE HANGING HEART T-LIGHT HOLDER</td>\n      <td>6</td>\n      <td>2010-12-01 08:26:00</td>\n      <td>2.55</td>\n      <td>17850.0</td>\n      <td>United Kingdom</td>\n    </tr>\n    <tr>\n      <th>1</th>\n      <td>536365</td>\n      <td>71053</td>\n      <td>WHITE METAL LANTERN</td>\n      <td>6</td>\n      <td>2010-12-01 08:26:00</td>\n      <td>3.39</td>\n      <td>17850.0</td>\n      <td>United Kingdom</td>\n    </tr>\n    <tr>\n      <th>2</th>\n      <td>536365</td>\n      <td>84406B</td>\n      <td>CREAM CUPID HEARTS COAT HANGER</td>\n      <td>8</td>\n      <td>2010-12-01 08:26:00</td>\n      <td>2.75</td>\n      <td>17850.0</td>\n      <td>United Kingdom</td>\n    </tr>\n    <tr>\n      <th>3</th>\n      <td>536365</td>\n      <td>84029G</td>\n      <td>KNITTED UNION FLAG HOT WATER BOTTLE</td>\n      <td>6</td>\n      <td>2010-12-01 08:26:00</td>\n      <td>3.39</td>\n      <td>17850.0</td>\n      <td>United Kingdom</td>\n    </tr>\n    <tr>\n      <th>4</th>\n      <td>536365</td>\n      <td>84029E</td>\n      <td>RED WOOLLY HOTTIE WHITE HEART.</td>\n      <td>6</td>\n      <td>2010-12-01 08:26:00</td>\n      <td>3.39</td>\n      <td>17850.0</td>\n      <td>United Kingdom</td>\n    </tr>\n    <tr>\n      <th>...</th>\n      <td>...</td>\n      <td>...</td>\n      <td>...</td>\n      <td>...</td>\n      <td>...</td>\n      <td>...</td>\n      <td>...</td>\n      <td>...</td>\n    </tr>\n    <tr>\n      <th>541904</th>\n      <td>581587</td>\n      <td>22613</td>\n      <td>PACK OF 20 SPACEBOY NAPKINS</td>\n      <td>12</td>\n      <td>2011-12-09 12:50:00</td>\n      <td>0.85</td>\n      <td>12680.0</td>\n      <td>France</td>\n    </tr>\n    <tr>\n      <th>541905</th>\n      <td>581587</td>\n      <td>22899</td>\n      <td>CHILDREN'S APRON DOLLY GIRL</td>\n      <td>6</td>\n      <td>2011-12-09 12:50:00</td>\n      <td>2.10</td>\n      <td>12680.0</td>\n      <td>France</td>\n    </tr>\n    <tr>\n      <th>541906</th>\n      <td>581587</td>\n      <td>23254</td>\n      <td>CHILDRENS CUTLERY DOLLY GIRL</td>\n      <td>4</td>\n      <td>2011-12-09 12:50:00</td>\n      <td>4.15</td>\n      <td>12680.0</td>\n      <td>France</td>\n    </tr>\n    <tr>\n      <th>541907</th>\n      <td>581587</td>\n      <td>23255</td>\n      <td>CHILDRENS CUTLERY CIRCUS PARADE</td>\n      <td>4</td>\n      <td>2011-12-09 12:50:00</td>\n      <td>4.15</td>\n      <td>12680.0</td>\n      <td>France</td>\n    </tr>\n    <tr>\n      <th>541908</th>\n      <td>581587</td>\n      <td>22138</td>\n      <td>BAKING SET 9 PIECE RETROSPOT</td>\n      <td>3</td>\n      <td>2011-12-09 12:50:00</td>\n      <td>4.95</td>\n      <td>12680.0</td>\n      <td>France</td>\n    </tr>\n  </tbody>\n</table>\n<p>532621 rows × 8 columns</p>\n</div>"
          },
          "metadata": {}
        }
      ]
    },
    {
      "cell_type": "code",
      "source": [
        "data['Description'].unique()"
      ],
      "metadata": {
        "execution": {
          "iopub.status.busy": "2023-10-27T08:53:59.630966Z",
          "iopub.execute_input": "2023-10-27T08:53:59.631387Z",
          "iopub.status.idle": "2023-10-27T08:53:59.684562Z",
          "shell.execute_reply.started": "2023-10-27T08:53:59.631353Z",
          "shell.execute_reply": "2023-10-27T08:53:59.683466Z"
        },
        "trusted": true,
        "id": "azS_6dRAZWuB",
        "outputId": "be05e567-721e-414a-dbbc-9fbcce9db5c5"
      },
      "execution_count": null,
      "outputs": [
        {
          "execution_count": 4,
          "output_type": "execute_result",
          "data": {
            "text/plain": "array(['WHITE HANGING HEART T-LIGHT HOLDER', 'WHITE METAL LANTERN',\n       'CREAM CUPID HEARTS COAT HANGER', ..., 'lost',\n       'CREAM HANGING HEART T-LIGHT HOLDER',\n       'PAPER CRAFT , LITTLE BIRDIE'], dtype=object)"
          },
          "metadata": {}
        }
      ]
    },
    {
      "cell_type": "markdown",
      "source": [
        "# Data Cleaning"
      ],
      "metadata": {
        "id": "IG4wo60jZWuC"
      }
    },
    {
      "cell_type": "code",
      "source": [
        "# Stripping extra spaces in the description\n",
        "data['Description'] = data['Description'].str.strip()\n",
        "\n",
        "# Dropping the rows without any invoice number\n",
        "data.dropna(axis = 0, subset =['InvoiceNo'], inplace = True)\n",
        "data['InvoiceNo'] = data['InvoiceNo'].astype('str')\n",
        "\n",
        "# Dropping all transactions which were done on credit\n",
        "data = data[~data['InvoiceNo'].str.contains('C')]"
      ],
      "metadata": {
        "execution": {
          "iopub.status.busy": "2023-11-03T02:42:22.104833Z",
          "iopub.execute_input": "2023-11-03T02:42:22.105273Z",
          "iopub.status.idle": "2023-11-03T02:42:22.629357Z",
          "shell.execute_reply.started": "2023-11-03T02:42:22.105240Z",
          "shell.execute_reply": "2023-11-03T02:42:22.628422Z"
        },
        "trusted": true,
        "id": "pA0m5HQfZWuC"
      },
      "execution_count": null,
      "outputs": []
    },
    {
      "cell_type": "code",
      "source": [],
      "metadata": {
        "execution": {
          "iopub.status.busy": "2023-10-27T09:00:36.903401Z",
          "iopub.execute_input": "2023-10-27T09:00:36.903800Z",
          "iopub.status.idle": "2023-10-27T09:00:36.942366Z",
          "shell.execute_reply.started": "2023-10-27T09:00:36.903765Z",
          "shell.execute_reply": "2023-10-27T09:00:36.940762Z"
        },
        "trusted": true,
        "id": "pLa_WlsRZWuC",
        "outputId": "e07c4681-6099-4058-f6c1-d067ba82ada7"
      },
      "execution_count": null,
      "outputs": [
        {
          "name": "stdout",
          "text": "0         False\n1         False\n2         False\n3         False\n4         False\n          ...  \n541904    False\n541905    False\n541906    False\n541907    False\n541908    False\nName: InvoiceNo, Length: 532621, dtype: bool\n",
          "output_type": "stream"
        }
      ]
    },
    {
      "cell_type": "markdown",
      "source": [
        "# Split data into transactions done in different countries"
      ],
      "metadata": {
        "id": "ukKUj7-dZWuD"
      }
    },
    {
      "cell_type": "code",
      "source": [
        "# Transactions done in France\n",
        "basket_France = (data[data['Country'] ==\"France\"]\n",
        "          .groupby(['InvoiceNo', 'Description'])['Quantity']\n",
        "          .sum().unstack().reset_index().fillna(0)\n",
        "          .set_index('InvoiceNo'))\n",
        "\n",
        "# Transactions done in the United Kingdom\n",
        "basket_UK = (data[data['Country'] ==\"United Kingdom\"]\n",
        "          .groupby(['InvoiceNo', 'Description'])['Quantity']\n",
        "          .sum().unstack().reset_index().fillna(0)\n",
        "          .set_index('InvoiceNo'))\n",
        "\n",
        "# Transactions done in Portugal\n",
        "basket_Por = (data[data['Country'] ==\"Portugal\"]\n",
        "          .groupby(['InvoiceNo', 'Description'])['Quantity']\n",
        "          .sum().unstack().reset_index().fillna(0)\n",
        "          .set_index('InvoiceNo'))\n",
        "\n",
        "basket_Sweden = (data[data['Country'] ==\"Sweden\"]\n",
        "          .groupby(['InvoiceNo', 'Description'])['Quantity']\n",
        "          .sum().unstack().reset_index().fillna(0)\n",
        "          .set_index('InvoiceNo'))"
      ],
      "metadata": {
        "execution": {
          "iopub.status.busy": "2023-11-03T02:45:00.516225Z",
          "iopub.execute_input": "2023-11-03T02:45:00.516616Z",
          "iopub.status.idle": "2023-11-03T02:45:01.714277Z",
          "shell.execute_reply.started": "2023-11-03T02:45:00.516583Z",
          "shell.execute_reply": "2023-11-03T02:45:01.713083Z"
        },
        "trusted": true,
        "id": "MRbcEwpLZWuD"
      },
      "execution_count": null,
      "outputs": []
    },
    {
      "cell_type": "code",
      "source": [
        "basket_France"
      ],
      "metadata": {
        "execution": {
          "iopub.status.busy": "2023-10-27T09:04:20.993936Z",
          "iopub.execute_input": "2023-10-27T09:04:20.994372Z",
          "iopub.status.idle": "2023-10-27T09:04:21.040233Z",
          "shell.execute_reply.started": "2023-10-27T09:04:20.994335Z",
          "shell.execute_reply": "2023-10-27T09:04:21.038849Z"
        },
        "trusted": true,
        "id": "Ic5HIKImZWuD",
        "outputId": "d83d72ba-3ce9-426a-8ff6-30a0a2694adb"
      },
      "execution_count": null,
      "outputs": [
        {
          "execution_count": 14,
          "output_type": "execute_result",
          "data": {
            "text/plain": "Description  10 COLOUR SPACEBOY PEN  12 COLOURED PARTY BALLOONS  \\\nInvoiceNo                                                         \n536370                          0.0                         0.0   \n536852                          0.0                         0.0   \n536974                          0.0                         0.0   \n537065                          0.0                         0.0   \n537463                          0.0                         0.0   \n...                             ...                         ...   \n580986                          0.0                         0.0   \n581001                          0.0                         0.0   \n581171                          0.0                         0.0   \n581279                          0.0                         0.0   \n581587                          0.0                         0.0   \n\nDescription  12 EGG HOUSE PAINTED WOOD  12 MESSAGE CARDS WITH ENVELOPES  \\\nInvoiceNo                                                                 \n536370                             0.0                              0.0   \n536852                             0.0                              0.0   \n536974                             0.0                              0.0   \n537065                             0.0                              0.0   \n537463                             0.0                              0.0   \n...                                ...                              ...   \n580986                             0.0                              0.0   \n581001                             0.0                              0.0   \n581171                             0.0                              0.0   \n581279                             0.0                              0.0   \n581587                             0.0                              0.0   \n\nDescription  12 PENCIL SMALL TUBE WOODLAND  \\\nInvoiceNo                                    \n536370                                 0.0   \n536852                                 0.0   \n536974                                 0.0   \n537065                                 0.0   \n537463                                 0.0   \n...                                    ...   \n580986                                 0.0   \n581001                                 0.0   \n581171                                 0.0   \n581279                                 0.0   \n581587                                 0.0   \n\nDescription  12 PENCILS SMALL TUBE RED RETROSPOT  12 PENCILS SMALL TUBE SKULL  \\\nInvoiceNo                                                                       \n536370                                       0.0                          0.0   \n536852                                       0.0                          0.0   \n536974                                       0.0                          0.0   \n537065                                       0.0                          0.0   \n537463                                       0.0                          0.0   \n...                                          ...                          ...   \n580986                                       0.0                          0.0   \n581001                                       0.0                          0.0   \n581171                                       0.0                          0.0   \n581279                                       0.0                          0.0   \n581587                                       0.0                          0.0   \n\nDescription  12 PENCILS TALL TUBE POSY  12 PENCILS TALL TUBE RED RETROSPOT  \\\nInvoiceNo                                                                    \n536370                             0.0                                 0.0   \n536852                             0.0                                 0.0   \n536974                             0.0                                 0.0   \n537065                             0.0                                 0.0   \n537463                             0.0                                 0.0   \n...                                ...                                 ...   \n580986                             0.0                                 0.0   \n581001                             0.0                                 0.0   \n581171                             0.0                                 0.0   \n581279                             0.0                                 0.0   \n581587                             0.0                                 0.0   \n\nDescription  12 PENCILS TALL TUBE WOODLAND  ...  WRAP VINTAGE PETALS  DESIGN  \\\nInvoiceNo                                   ...                                \n536370                                 0.0  ...                          0.0   \n536852                                 0.0  ...                          0.0   \n536974                                 0.0  ...                          0.0   \n537065                                 0.0  ...                          0.0   \n537463                                 0.0  ...                          0.0   \n...                                    ...  ...                          ...   \n580986                                 0.0  ...                          0.0   \n581001                                 0.0  ...                          0.0   \n581171                                 0.0  ...                          0.0   \n581279                                 0.0  ...                          0.0   \n581587                                 0.0  ...                          0.0   \n\nDescription  YELLOW COAT RACK PARIS FASHION  YELLOW GIANT GARDEN THERMOMETER  \\\nInvoiceNo                                                                      \n536370                                  0.0                              0.0   \n536852                                  0.0                              0.0   \n536974                                  0.0                              0.0   \n537065                                  0.0                              0.0   \n537463                                  0.0                              0.0   \n...                                     ...                              ...   \n580986                                  0.0                              0.0   \n581001                                  0.0                              0.0   \n581171                                  0.0                              0.0   \n581279                                  0.0                              0.0   \n581587                                  0.0                              0.0   \n\nDescription  YELLOW SHARK HELICOPTER  ZINC  STAR T-LIGHT HOLDER  \\\nInvoiceNo                                                         \n536370                           0.0                        0.0   \n536852                           0.0                        0.0   \n536974                           0.0                        0.0   \n537065                           0.0                        0.0   \n537463                           0.0                        0.0   \n...                              ...                        ...   \n580986                           0.0                        0.0   \n581001                           0.0                        0.0   \n581171                           0.0                        0.0   \n581279                           0.0                        0.0   \n581587                           0.0                        0.0   \n\nDescription  ZINC FOLKART SLEIGH BELLS  ZINC HERB GARDEN CONTAINER  \\\nInvoiceNo                                                            \n536370                             0.0                         0.0   \n536852                             0.0                         0.0   \n536974                             0.0                         0.0   \n537065                             0.0                         0.0   \n537463                             0.0                         0.0   \n...                                ...                         ...   \n580986                             0.0                         0.0   \n581001                             0.0                         0.0   \n581171                             0.0                         0.0   \n581279                             0.0                         0.0   \n581587                             0.0                         0.0   \n\nDescription  ZINC METAL HEART DECORATION  ZINC T-LIGHT HOLDER STAR LARGE  \\\nInvoiceNo                                                                  \n536370                               0.0                             0.0   \n536852                               0.0                             0.0   \n536974                               0.0                             0.0   \n537065                               0.0                             0.0   \n537463                               0.0                             0.0   \n...                                  ...                             ...   \n580986                               0.0                             0.0   \n581001                               0.0                             0.0   \n581171                               0.0                             0.0   \n581279                               0.0                             0.0   \n581587                               0.0                             0.0   \n\nDescription  ZINC T-LIGHT HOLDER STARS SMALL  \nInvoiceNo                                     \n536370                                   0.0  \n536852                                   0.0  \n536974                                   0.0  \n537065                                   0.0  \n537463                                   0.0  \n...                                      ...  \n580986                                   0.0  \n581001                                   0.0  \n581171                                   0.0  \n581279                                   0.0  \n581587                                   0.0  \n\n[392 rows x 1563 columns]",
            "text/html": "<div>\n<style scoped>\n    .dataframe tbody tr th:only-of-type {\n        vertical-align: middle;\n    }\n\n    .dataframe tbody tr th {\n        vertical-align: top;\n    }\n\n    .dataframe thead th {\n        text-align: right;\n    }\n</style>\n<table border=\"1\" class=\"dataframe\">\n  <thead>\n    <tr style=\"text-align: right;\">\n      <th>Description</th>\n      <th>10 COLOUR SPACEBOY PEN</th>\n      <th>12 COLOURED PARTY BALLOONS</th>\n      <th>12 EGG HOUSE PAINTED WOOD</th>\n      <th>12 MESSAGE CARDS WITH ENVELOPES</th>\n      <th>12 PENCIL SMALL TUBE WOODLAND</th>\n      <th>12 PENCILS SMALL TUBE RED RETROSPOT</th>\n      <th>12 PENCILS SMALL TUBE SKULL</th>\n      <th>12 PENCILS TALL TUBE POSY</th>\n      <th>12 PENCILS TALL TUBE RED RETROSPOT</th>\n      <th>12 PENCILS TALL TUBE WOODLAND</th>\n      <th>...</th>\n      <th>WRAP VINTAGE PETALS  DESIGN</th>\n      <th>YELLOW COAT RACK PARIS FASHION</th>\n      <th>YELLOW GIANT GARDEN THERMOMETER</th>\n      <th>YELLOW SHARK HELICOPTER</th>\n      <th>ZINC  STAR T-LIGHT HOLDER</th>\n      <th>ZINC FOLKART SLEIGH BELLS</th>\n      <th>ZINC HERB GARDEN CONTAINER</th>\n      <th>ZINC METAL HEART DECORATION</th>\n      <th>ZINC T-LIGHT HOLDER STAR LARGE</th>\n      <th>ZINC T-LIGHT HOLDER STARS SMALL</th>\n    </tr>\n    <tr>\n      <th>InvoiceNo</th>\n      <th></th>\n      <th></th>\n      <th></th>\n      <th></th>\n      <th></th>\n      <th></th>\n      <th></th>\n      <th></th>\n      <th></th>\n      <th></th>\n      <th></th>\n      <th></th>\n      <th></th>\n      <th></th>\n      <th></th>\n      <th></th>\n      <th></th>\n      <th></th>\n      <th></th>\n      <th></th>\n      <th></th>\n    </tr>\n  </thead>\n  <tbody>\n    <tr>\n      <th>536370</th>\n      <td>0.0</td>\n      <td>0.0</td>\n      <td>0.0</td>\n      <td>0.0</td>\n      <td>0.0</td>\n      <td>0.0</td>\n      <td>0.0</td>\n      <td>0.0</td>\n      <td>0.0</td>\n      <td>0.0</td>\n      <td>...</td>\n      <td>0.0</td>\n      <td>0.0</td>\n      <td>0.0</td>\n      <td>0.0</td>\n      <td>0.0</td>\n      <td>0.0</td>\n      <td>0.0</td>\n      <td>0.0</td>\n      <td>0.0</td>\n      <td>0.0</td>\n    </tr>\n    <tr>\n      <th>536852</th>\n      <td>0.0</td>\n      <td>0.0</td>\n      <td>0.0</td>\n      <td>0.0</td>\n      <td>0.0</td>\n      <td>0.0</td>\n      <td>0.0</td>\n      <td>0.0</td>\n      <td>0.0</td>\n      <td>0.0</td>\n      <td>...</td>\n      <td>0.0</td>\n      <td>0.0</td>\n      <td>0.0</td>\n      <td>0.0</td>\n      <td>0.0</td>\n      <td>0.0</td>\n      <td>0.0</td>\n      <td>0.0</td>\n      <td>0.0</td>\n      <td>0.0</td>\n    </tr>\n    <tr>\n      <th>536974</th>\n      <td>0.0</td>\n      <td>0.0</td>\n      <td>0.0</td>\n      <td>0.0</td>\n      <td>0.0</td>\n      <td>0.0</td>\n      <td>0.0</td>\n      <td>0.0</td>\n      <td>0.0</td>\n      <td>0.0</td>\n      <td>...</td>\n      <td>0.0</td>\n      <td>0.0</td>\n      <td>0.0</td>\n      <td>0.0</td>\n      <td>0.0</td>\n      <td>0.0</td>\n      <td>0.0</td>\n      <td>0.0</td>\n      <td>0.0</td>\n      <td>0.0</td>\n    </tr>\n    <tr>\n      <th>537065</th>\n      <td>0.0</td>\n      <td>0.0</td>\n      <td>0.0</td>\n      <td>0.0</td>\n      <td>0.0</td>\n      <td>0.0</td>\n      <td>0.0</td>\n      <td>0.0</td>\n      <td>0.0</td>\n      <td>0.0</td>\n      <td>...</td>\n      <td>0.0</td>\n      <td>0.0</td>\n      <td>0.0</td>\n      <td>0.0</td>\n      <td>0.0</td>\n      <td>0.0</td>\n      <td>0.0</td>\n      <td>0.0</td>\n      <td>0.0</td>\n      <td>0.0</td>\n    </tr>\n    <tr>\n      <th>537463</th>\n      <td>0.0</td>\n      <td>0.0</td>\n      <td>0.0</td>\n      <td>0.0</td>\n      <td>0.0</td>\n      <td>0.0</td>\n      <td>0.0</td>\n      <td>0.0</td>\n      <td>0.0</td>\n      <td>0.0</td>\n      <td>...</td>\n      <td>0.0</td>\n      <td>0.0</td>\n      <td>0.0</td>\n      <td>0.0</td>\n      <td>0.0</td>\n      <td>0.0</td>\n      <td>0.0</td>\n      <td>0.0</td>\n      <td>0.0</td>\n      <td>0.0</td>\n    </tr>\n    <tr>\n      <th>...</th>\n      <td>...</td>\n      <td>...</td>\n      <td>...</td>\n      <td>...</td>\n      <td>...</td>\n      <td>...</td>\n      <td>...</td>\n      <td>...</td>\n      <td>...</td>\n      <td>...</td>\n      <td>...</td>\n      <td>...</td>\n      <td>...</td>\n      <td>...</td>\n      <td>...</td>\n      <td>...</td>\n      <td>...</td>\n      <td>...</td>\n      <td>...</td>\n      <td>...</td>\n      <td>...</td>\n    </tr>\n    <tr>\n      <th>580986</th>\n      <td>0.0</td>\n      <td>0.0</td>\n      <td>0.0</td>\n      <td>0.0</td>\n      <td>0.0</td>\n      <td>0.0</td>\n      <td>0.0</td>\n      <td>0.0</td>\n      <td>0.0</td>\n      <td>0.0</td>\n      <td>...</td>\n      <td>0.0</td>\n      <td>0.0</td>\n      <td>0.0</td>\n      <td>0.0</td>\n      <td>0.0</td>\n      <td>0.0</td>\n      <td>0.0</td>\n      <td>0.0</td>\n      <td>0.0</td>\n      <td>0.0</td>\n    </tr>\n    <tr>\n      <th>581001</th>\n      <td>0.0</td>\n      <td>0.0</td>\n      <td>0.0</td>\n      <td>0.0</td>\n      <td>0.0</td>\n      <td>0.0</td>\n      <td>0.0</td>\n      <td>0.0</td>\n      <td>0.0</td>\n      <td>0.0</td>\n      <td>...</td>\n      <td>0.0</td>\n      <td>0.0</td>\n      <td>0.0</td>\n      <td>0.0</td>\n      <td>0.0</td>\n      <td>0.0</td>\n      <td>0.0</td>\n      <td>0.0</td>\n      <td>0.0</td>\n      <td>0.0</td>\n    </tr>\n    <tr>\n      <th>581171</th>\n      <td>0.0</td>\n      <td>0.0</td>\n      <td>0.0</td>\n      <td>0.0</td>\n      <td>0.0</td>\n      <td>0.0</td>\n      <td>0.0</td>\n      <td>0.0</td>\n      <td>0.0</td>\n      <td>0.0</td>\n      <td>...</td>\n      <td>0.0</td>\n      <td>0.0</td>\n      <td>0.0</td>\n      <td>0.0</td>\n      <td>0.0</td>\n      <td>0.0</td>\n      <td>0.0</td>\n      <td>0.0</td>\n      <td>0.0</td>\n      <td>0.0</td>\n    </tr>\n    <tr>\n      <th>581279</th>\n      <td>0.0</td>\n      <td>0.0</td>\n      <td>0.0</td>\n      <td>0.0</td>\n      <td>0.0</td>\n      <td>0.0</td>\n      <td>0.0</td>\n      <td>0.0</td>\n      <td>0.0</td>\n      <td>0.0</td>\n      <td>...</td>\n      <td>0.0</td>\n      <td>0.0</td>\n      <td>0.0</td>\n      <td>0.0</td>\n      <td>0.0</td>\n      <td>0.0</td>\n      <td>0.0</td>\n      <td>0.0</td>\n      <td>0.0</td>\n      <td>0.0</td>\n    </tr>\n    <tr>\n      <th>581587</th>\n      <td>0.0</td>\n      <td>0.0</td>\n      <td>0.0</td>\n      <td>0.0</td>\n      <td>0.0</td>\n      <td>0.0</td>\n      <td>0.0</td>\n      <td>0.0</td>\n      <td>0.0</td>\n      <td>0.0</td>\n      <td>...</td>\n      <td>0.0</td>\n      <td>0.0</td>\n      <td>0.0</td>\n      <td>0.0</td>\n      <td>0.0</td>\n      <td>0.0</td>\n      <td>0.0</td>\n      <td>0.0</td>\n      <td>0.0</td>\n      <td>0.0</td>\n    </tr>\n  </tbody>\n</table>\n<p>392 rows × 1563 columns</p>\n</div>"
          },
          "metadata": {}
        }
      ]
    },
    {
      "cell_type": "markdown",
      "source": [
        "# One-Hot encode our dataset"
      ],
      "metadata": {
        "id": "YUMjUZQ6ZWuE"
      }
    },
    {
      "cell_type": "code",
      "source": [
        "# Defining the hot encoding function to make the data suitable\n",
        "# for the concerned libraries\n",
        "def hot_encode(x):\n",
        "    if(x<= 0):\n",
        "        return 0\n",
        "    if(x>= 1):\n",
        "        return 1\n",
        "\n",
        "# Encoding the datasets\n",
        "basket_encoded = basket_France.applymap(hot_encode)\n",
        "basket_France = basket_encoded\n",
        "\n",
        "basket_encoded = basket_UK.applymap(hot_encode)\n",
        "basket_UK = basket_encoded\n",
        "\n",
        "basket_encoded = basket_Por.applymap(hot_encode)\n",
        "basket_Por = basket_encoded\n",
        "\n",
        "basket_encoded = basket_Sweden.applymap(hot_encode)\n",
        "basket_Sweden = basket_encoded"
      ],
      "metadata": {
        "execution": {
          "iopub.status.busy": "2023-10-27T09:09:11.057167Z",
          "iopub.execute_input": "2023-10-27T09:09:11.058190Z",
          "iopub.status.idle": "2023-10-27T09:09:40.058556Z",
          "shell.execute_reply.started": "2023-10-27T09:09:11.058130Z",
          "shell.execute_reply": "2023-10-27T09:09:40.056670Z"
        },
        "trusted": true,
        "id": "9BRNrreYZWuE"
      },
      "execution_count": null,
      "outputs": []
    },
    {
      "cell_type": "code",
      "source": [
        "basket_France"
      ],
      "metadata": {
        "execution": {
          "iopub.status.busy": "2023-10-27T09:09:40.061555Z",
          "iopub.execute_input": "2023-10-27T09:09:40.062403Z",
          "iopub.status.idle": "2023-10-27T09:09:40.089872Z",
          "shell.execute_reply.started": "2023-10-27T09:09:40.062367Z",
          "shell.execute_reply": "2023-10-27T09:09:40.088371Z"
        },
        "trusted": true,
        "id": "9pZYJQr8ZWuE",
        "outputId": "2abffa32-5c39-456c-d0c9-2fa1a7d66caf"
      },
      "execution_count": null,
      "outputs": [
        {
          "execution_count": 16,
          "output_type": "execute_result",
          "data": {
            "text/plain": "Description  10 COLOUR SPACEBOY PEN  12 COLOURED PARTY BALLOONS  \\\nInvoiceNo                                                         \n536370                            0                           0   \n536852                            0                           0   \n536974                            0                           0   \n537065                            0                           0   \n537463                            0                           0   \n...                             ...                         ...   \n580986                            0                           0   \n581001                            0                           0   \n581171                            0                           0   \n581279                            0                           0   \n581587                            0                           0   \n\nDescription  12 EGG HOUSE PAINTED WOOD  12 MESSAGE CARDS WITH ENVELOPES  \\\nInvoiceNo                                                                 \n536370                               0                                0   \n536852                               0                                0   \n536974                               0                                0   \n537065                               0                                0   \n537463                               0                                0   \n...                                ...                              ...   \n580986                               0                                0   \n581001                               0                                0   \n581171                               0                                0   \n581279                               0                                0   \n581587                               0                                0   \n\nDescription  12 PENCIL SMALL TUBE WOODLAND  \\\nInvoiceNo                                    \n536370                                   0   \n536852                                   0   \n536974                                   0   \n537065                                   0   \n537463                                   0   \n...                                    ...   \n580986                                   0   \n581001                                   0   \n581171                                   0   \n581279                                   0   \n581587                                   0   \n\nDescription  12 PENCILS SMALL TUBE RED RETROSPOT  12 PENCILS SMALL TUBE SKULL  \\\nInvoiceNo                                                                       \n536370                                         0                            0   \n536852                                         0                            0   \n536974                                         0                            0   \n537065                                         0                            0   \n537463                                         0                            0   \n...                                          ...                          ...   \n580986                                         0                            0   \n581001                                         0                            0   \n581171                                         0                            0   \n581279                                         0                            0   \n581587                                         0                            0   \n\nDescription  12 PENCILS TALL TUBE POSY  12 PENCILS TALL TUBE RED RETROSPOT  \\\nInvoiceNo                                                                    \n536370                               0                                   0   \n536852                               0                                   0   \n536974                               0                                   0   \n537065                               0                                   0   \n537463                               0                                   0   \n...                                ...                                 ...   \n580986                               0                                   0   \n581001                               0                                   0   \n581171                               0                                   0   \n581279                               0                                   0   \n581587                               0                                   0   \n\nDescription  12 PENCILS TALL TUBE WOODLAND  ...  WRAP VINTAGE PETALS  DESIGN  \\\nInvoiceNo                                   ...                                \n536370                                   0  ...                            0   \n536852                                   0  ...                            0   \n536974                                   0  ...                            0   \n537065                                   0  ...                            0   \n537463                                   0  ...                            0   \n...                                    ...  ...                          ...   \n580986                                   0  ...                            0   \n581001                                   0  ...                            0   \n581171                                   0  ...                            0   \n581279                                   0  ...                            0   \n581587                                   0  ...                            0   \n\nDescription  YELLOW COAT RACK PARIS FASHION  YELLOW GIANT GARDEN THERMOMETER  \\\nInvoiceNo                                                                      \n536370                                    0                                0   \n536852                                    0                                0   \n536974                                    0                                0   \n537065                                    0                                0   \n537463                                    0                                0   \n...                                     ...                              ...   \n580986                                    0                                0   \n581001                                    0                                0   \n581171                                    0                                0   \n581279                                    0                                0   \n581587                                    0                                0   \n\nDescription  YELLOW SHARK HELICOPTER  ZINC  STAR T-LIGHT HOLDER  \\\nInvoiceNo                                                         \n536370                             0                          0   \n536852                             0                          0   \n536974                             0                          0   \n537065                             0                          0   \n537463                             0                          0   \n...                              ...                        ...   \n580986                             0                          0   \n581001                             0                          0   \n581171                             0                          0   \n581279                             0                          0   \n581587                             0                          0   \n\nDescription  ZINC FOLKART SLEIGH BELLS  ZINC HERB GARDEN CONTAINER  \\\nInvoiceNo                                                            \n536370                               0                           0   \n536852                               0                           0   \n536974                               0                           0   \n537065                               0                           0   \n537463                               0                           0   \n...                                ...                         ...   \n580986                               0                           0   \n581001                               0                           0   \n581171                               0                           0   \n581279                               0                           0   \n581587                               0                           0   \n\nDescription  ZINC METAL HEART DECORATION  ZINC T-LIGHT HOLDER STAR LARGE  \\\nInvoiceNo                                                                  \n536370                                 0                               0   \n536852                                 0                               0   \n536974                                 0                               0   \n537065                                 0                               0   \n537463                                 0                               0   \n...                                  ...                             ...   \n580986                                 0                               0   \n581001                                 0                               0   \n581171                                 0                               0   \n581279                                 0                               0   \n581587                                 0                               0   \n\nDescription  ZINC T-LIGHT HOLDER STARS SMALL  \nInvoiceNo                                     \n536370                                     0  \n536852                                     0  \n536974                                     0  \n537065                                     0  \n537463                                     0  \n...                                      ...  \n580986                                     0  \n581001                                     0  \n581171                                     0  \n581279                                     0  \n581587                                     0  \n\n[392 rows x 1563 columns]",
            "text/html": "<div>\n<style scoped>\n    .dataframe tbody tr th:only-of-type {\n        vertical-align: middle;\n    }\n\n    .dataframe tbody tr th {\n        vertical-align: top;\n    }\n\n    .dataframe thead th {\n        text-align: right;\n    }\n</style>\n<table border=\"1\" class=\"dataframe\">\n  <thead>\n    <tr style=\"text-align: right;\">\n      <th>Description</th>\n      <th>10 COLOUR SPACEBOY PEN</th>\n      <th>12 COLOURED PARTY BALLOONS</th>\n      <th>12 EGG HOUSE PAINTED WOOD</th>\n      <th>12 MESSAGE CARDS WITH ENVELOPES</th>\n      <th>12 PENCIL SMALL TUBE WOODLAND</th>\n      <th>12 PENCILS SMALL TUBE RED RETROSPOT</th>\n      <th>12 PENCILS SMALL TUBE SKULL</th>\n      <th>12 PENCILS TALL TUBE POSY</th>\n      <th>12 PENCILS TALL TUBE RED RETROSPOT</th>\n      <th>12 PENCILS TALL TUBE WOODLAND</th>\n      <th>...</th>\n      <th>WRAP VINTAGE PETALS  DESIGN</th>\n      <th>YELLOW COAT RACK PARIS FASHION</th>\n      <th>YELLOW GIANT GARDEN THERMOMETER</th>\n      <th>YELLOW SHARK HELICOPTER</th>\n      <th>ZINC  STAR T-LIGHT HOLDER</th>\n      <th>ZINC FOLKART SLEIGH BELLS</th>\n      <th>ZINC HERB GARDEN CONTAINER</th>\n      <th>ZINC METAL HEART DECORATION</th>\n      <th>ZINC T-LIGHT HOLDER STAR LARGE</th>\n      <th>ZINC T-LIGHT HOLDER STARS SMALL</th>\n    </tr>\n    <tr>\n      <th>InvoiceNo</th>\n      <th></th>\n      <th></th>\n      <th></th>\n      <th></th>\n      <th></th>\n      <th></th>\n      <th></th>\n      <th></th>\n      <th></th>\n      <th></th>\n      <th></th>\n      <th></th>\n      <th></th>\n      <th></th>\n      <th></th>\n      <th></th>\n      <th></th>\n      <th></th>\n      <th></th>\n      <th></th>\n      <th></th>\n    </tr>\n  </thead>\n  <tbody>\n    <tr>\n      <th>536370</th>\n      <td>0</td>\n      <td>0</td>\n      <td>0</td>\n      <td>0</td>\n      <td>0</td>\n      <td>0</td>\n      <td>0</td>\n      <td>0</td>\n      <td>0</td>\n      <td>0</td>\n      <td>...</td>\n      <td>0</td>\n      <td>0</td>\n      <td>0</td>\n      <td>0</td>\n      <td>0</td>\n      <td>0</td>\n      <td>0</td>\n      <td>0</td>\n      <td>0</td>\n      <td>0</td>\n    </tr>\n    <tr>\n      <th>536852</th>\n      <td>0</td>\n      <td>0</td>\n      <td>0</td>\n      <td>0</td>\n      <td>0</td>\n      <td>0</td>\n      <td>0</td>\n      <td>0</td>\n      <td>0</td>\n      <td>0</td>\n      <td>...</td>\n      <td>0</td>\n      <td>0</td>\n      <td>0</td>\n      <td>0</td>\n      <td>0</td>\n      <td>0</td>\n      <td>0</td>\n      <td>0</td>\n      <td>0</td>\n      <td>0</td>\n    </tr>\n    <tr>\n      <th>536974</th>\n      <td>0</td>\n      <td>0</td>\n      <td>0</td>\n      <td>0</td>\n      <td>0</td>\n      <td>0</td>\n      <td>0</td>\n      <td>0</td>\n      <td>0</td>\n      <td>0</td>\n      <td>...</td>\n      <td>0</td>\n      <td>0</td>\n      <td>0</td>\n      <td>0</td>\n      <td>0</td>\n      <td>0</td>\n      <td>0</td>\n      <td>0</td>\n      <td>0</td>\n      <td>0</td>\n    </tr>\n    <tr>\n      <th>537065</th>\n      <td>0</td>\n      <td>0</td>\n      <td>0</td>\n      <td>0</td>\n      <td>0</td>\n      <td>0</td>\n      <td>0</td>\n      <td>0</td>\n      <td>0</td>\n      <td>0</td>\n      <td>...</td>\n      <td>0</td>\n      <td>0</td>\n      <td>0</td>\n      <td>0</td>\n      <td>0</td>\n      <td>0</td>\n      <td>0</td>\n      <td>0</td>\n      <td>0</td>\n      <td>0</td>\n    </tr>\n    <tr>\n      <th>537463</th>\n      <td>0</td>\n      <td>0</td>\n      <td>0</td>\n      <td>0</td>\n      <td>0</td>\n      <td>0</td>\n      <td>0</td>\n      <td>0</td>\n      <td>0</td>\n      <td>0</td>\n      <td>...</td>\n      <td>0</td>\n      <td>0</td>\n      <td>0</td>\n      <td>0</td>\n      <td>0</td>\n      <td>0</td>\n      <td>0</td>\n      <td>0</td>\n      <td>0</td>\n      <td>0</td>\n    </tr>\n    <tr>\n      <th>...</th>\n      <td>...</td>\n      <td>...</td>\n      <td>...</td>\n      <td>...</td>\n      <td>...</td>\n      <td>...</td>\n      <td>...</td>\n      <td>...</td>\n      <td>...</td>\n      <td>...</td>\n      <td>...</td>\n      <td>...</td>\n      <td>...</td>\n      <td>...</td>\n      <td>...</td>\n      <td>...</td>\n      <td>...</td>\n      <td>...</td>\n      <td>...</td>\n      <td>...</td>\n      <td>...</td>\n    </tr>\n    <tr>\n      <th>580986</th>\n      <td>0</td>\n      <td>0</td>\n      <td>0</td>\n      <td>0</td>\n      <td>0</td>\n      <td>0</td>\n      <td>0</td>\n      <td>0</td>\n      <td>0</td>\n      <td>0</td>\n      <td>...</td>\n      <td>0</td>\n      <td>0</td>\n      <td>0</td>\n      <td>0</td>\n      <td>0</td>\n      <td>0</td>\n      <td>0</td>\n      <td>0</td>\n      <td>0</td>\n      <td>0</td>\n    </tr>\n    <tr>\n      <th>581001</th>\n      <td>0</td>\n      <td>0</td>\n      <td>0</td>\n      <td>0</td>\n      <td>0</td>\n      <td>0</td>\n      <td>0</td>\n      <td>0</td>\n      <td>0</td>\n      <td>0</td>\n      <td>...</td>\n      <td>0</td>\n      <td>0</td>\n      <td>0</td>\n      <td>0</td>\n      <td>0</td>\n      <td>0</td>\n      <td>0</td>\n      <td>0</td>\n      <td>0</td>\n      <td>0</td>\n    </tr>\n    <tr>\n      <th>581171</th>\n      <td>0</td>\n      <td>0</td>\n      <td>0</td>\n      <td>0</td>\n      <td>0</td>\n      <td>0</td>\n      <td>0</td>\n      <td>0</td>\n      <td>0</td>\n      <td>0</td>\n      <td>...</td>\n      <td>0</td>\n      <td>0</td>\n      <td>0</td>\n      <td>0</td>\n      <td>0</td>\n      <td>0</td>\n      <td>0</td>\n      <td>0</td>\n      <td>0</td>\n      <td>0</td>\n    </tr>\n    <tr>\n      <th>581279</th>\n      <td>0</td>\n      <td>0</td>\n      <td>0</td>\n      <td>0</td>\n      <td>0</td>\n      <td>0</td>\n      <td>0</td>\n      <td>0</td>\n      <td>0</td>\n      <td>0</td>\n      <td>...</td>\n      <td>0</td>\n      <td>0</td>\n      <td>0</td>\n      <td>0</td>\n      <td>0</td>\n      <td>0</td>\n      <td>0</td>\n      <td>0</td>\n      <td>0</td>\n      <td>0</td>\n    </tr>\n    <tr>\n      <th>581587</th>\n      <td>0</td>\n      <td>0</td>\n      <td>0</td>\n      <td>0</td>\n      <td>0</td>\n      <td>0</td>\n      <td>0</td>\n      <td>0</td>\n      <td>0</td>\n      <td>0</td>\n      <td>...</td>\n      <td>0</td>\n      <td>0</td>\n      <td>0</td>\n      <td>0</td>\n      <td>0</td>\n      <td>0</td>\n      <td>0</td>\n      <td>0</td>\n      <td>0</td>\n      <td>0</td>\n    </tr>\n  </tbody>\n</table>\n<p>392 rows × 1563 columns</p>\n</div>"
          },
          "metadata": {}
        }
      ]
    },
    {
      "cell_type": "code",
      "source": [
        "# Building the model\n",
        "frq_items = apriori(basket_France, min_support = 0.05, use_colnames = True)"
      ],
      "metadata": {
        "execution": {
          "iopub.status.busy": "2023-10-27T09:12:52.386876Z",
          "iopub.execute_input": "2023-10-27T09:12:52.387315Z",
          "iopub.status.idle": "2023-10-27T09:12:52.422255Z",
          "shell.execute_reply.started": "2023-10-27T09:12:52.387279Z",
          "shell.execute_reply": "2023-10-27T09:12:52.420956Z"
        },
        "trusted": true,
        "id": "mkaDgx__ZWuE",
        "outputId": "0569fe1a-4407-48d6-9bae-d49873f6268f"
      },
      "execution_count": null,
      "outputs": [
        {
          "name": "stderr",
          "text": "/opt/conda/lib/python3.7/site-packages/mlxtend/frequent_patterns/fpcommon.py:115: DeprecationWarning: DataFrames with non-bool types result in worse computationalperformance and their support might be discontinued in the future.Please use a DataFrame with bool type\n  DeprecationWarning,\n",
          "output_type": "stream"
        }
      ]
    },
    {
      "cell_type": "markdown",
      "source": [
        "# Bulding the models and analyzing the results"
      ],
      "metadata": {
        "id": "6_8r0zsuZWuE"
      }
    },
    {
      "cell_type": "markdown",
      "source": [
        "## France"
      ],
      "metadata": {
        "id": "Onort0-uZWuE"
      }
    },
    {
      "cell_type": "code",
      "source": [
        "\n",
        "\n",
        "# Collecting the inferred rules in a dataframe\n",
        "rules = association_rules(frq_items, metric =\"lift\", min_threshold = 1)\n",
        "rules = rules.sort_values(['confidence', 'lift'], ascending =[False, False])\n",
        "rules.head()"
      ],
      "metadata": {
        "execution": {
          "iopub.status.busy": "2023-10-27T09:13:04.484080Z",
          "iopub.execute_input": "2023-10-27T09:13:04.484598Z",
          "iopub.status.idle": "2023-10-27T09:13:04.514419Z",
          "shell.execute_reply.started": "2023-10-27T09:13:04.484555Z",
          "shell.execute_reply": "2023-10-27T09:13:04.512936Z"
        },
        "trusted": true,
        "id": "mq1Im4VDZWuE",
        "outputId": "808e6e17-480d-4af9-a58f-fbd3a53fc558"
      },
      "execution_count": null,
      "outputs": [
        {
          "execution_count": 18,
          "output_type": "execute_result",
          "data": {
            "text/plain": "                                           antecedents  \\\n44                        (JUMBO BAG WOODLAND ANIMALS)   \n258  (RED TOADSTOOL LED NIGHT LIGHT, PLASTERS IN TI...   \n272  (RED TOADSTOOL LED NIGHT LIGHT, PLASTERS IN TI...   \n301  (SET/20 RED RETROSPOT PAPER NAPKINS, SET/6 RED...   \n300  (SET/20 RED RETROSPOT PAPER NAPKINS, SET/6 RED...   \n\n                         consequents  antecedent support  consequent support  \\\n44                         (POSTAGE)            0.076531            0.765306   \n258                        (POSTAGE)            0.051020            0.765306   \n272                        (POSTAGE)            0.053571            0.765306   \n301  (SET/6 RED SPOTTY PAPER PLATES)            0.102041            0.127551   \n300    (SET/6 RED SPOTTY PAPER CUPS)            0.102041            0.137755   \n\n      support  confidence      lift  leverage  conviction  \n44   0.076531       1.000  1.306667  0.017961         inf  \n258  0.051020       1.000  1.306667  0.011974         inf  \n272  0.053571       1.000  1.306667  0.012573         inf  \n301  0.099490       0.975  7.644000  0.086474   34.897959  \n300  0.099490       0.975  7.077778  0.085433   34.489796  ",
            "text/html": "<div>\n<style scoped>\n    .dataframe tbody tr th:only-of-type {\n        vertical-align: middle;\n    }\n\n    .dataframe tbody tr th {\n        vertical-align: top;\n    }\n\n    .dataframe thead th {\n        text-align: right;\n    }\n</style>\n<table border=\"1\" class=\"dataframe\">\n  <thead>\n    <tr style=\"text-align: right;\">\n      <th></th>\n      <th>antecedents</th>\n      <th>consequents</th>\n      <th>antecedent support</th>\n      <th>consequent support</th>\n      <th>support</th>\n      <th>confidence</th>\n      <th>lift</th>\n      <th>leverage</th>\n      <th>conviction</th>\n    </tr>\n  </thead>\n  <tbody>\n    <tr>\n      <th>44</th>\n      <td>(JUMBO BAG WOODLAND ANIMALS)</td>\n      <td>(POSTAGE)</td>\n      <td>0.076531</td>\n      <td>0.765306</td>\n      <td>0.076531</td>\n      <td>1.000</td>\n      <td>1.306667</td>\n      <td>0.017961</td>\n      <td>inf</td>\n    </tr>\n    <tr>\n      <th>258</th>\n      <td>(RED TOADSTOOL LED NIGHT LIGHT, PLASTERS IN TI...</td>\n      <td>(POSTAGE)</td>\n      <td>0.051020</td>\n      <td>0.765306</td>\n      <td>0.051020</td>\n      <td>1.000</td>\n      <td>1.306667</td>\n      <td>0.011974</td>\n      <td>inf</td>\n    </tr>\n    <tr>\n      <th>272</th>\n      <td>(RED TOADSTOOL LED NIGHT LIGHT, PLASTERS IN TI...</td>\n      <td>(POSTAGE)</td>\n      <td>0.053571</td>\n      <td>0.765306</td>\n      <td>0.053571</td>\n      <td>1.000</td>\n      <td>1.306667</td>\n      <td>0.012573</td>\n      <td>inf</td>\n    </tr>\n    <tr>\n      <th>301</th>\n      <td>(SET/20 RED RETROSPOT PAPER NAPKINS, SET/6 RED...</td>\n      <td>(SET/6 RED SPOTTY PAPER PLATES)</td>\n      <td>0.102041</td>\n      <td>0.127551</td>\n      <td>0.099490</td>\n      <td>0.975</td>\n      <td>7.644000</td>\n      <td>0.086474</td>\n      <td>34.897959</td>\n    </tr>\n    <tr>\n      <th>300</th>\n      <td>(SET/20 RED RETROSPOT PAPER NAPKINS, SET/6 RED...</td>\n      <td>(SET/6 RED SPOTTY PAPER CUPS)</td>\n      <td>0.102041</td>\n      <td>0.137755</td>\n      <td>0.099490</td>\n      <td>0.975</td>\n      <td>7.077778</td>\n      <td>0.085433</td>\n      <td>34.489796</td>\n    </tr>\n  </tbody>\n</table>\n</div>"
          },
          "metadata": {}
        }
      ]
    },
    {
      "cell_type": "markdown",
      "source": [
        "# Conclusion\n",
        "\n",
        "**It seems that boys' and girls' cutlery is often paired together based on our rules. Making for a clever rule to bunch cutlery together when shoping as a parent.**"
      ],
      "metadata": {
        "id": "GYfELR7mZWuF"
      }
    }
  ]
}